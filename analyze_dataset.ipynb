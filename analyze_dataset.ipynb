{
 "cells": [
  {
   "cell_type": "code",
   "execution_count": 4,
   "metadata": {},
   "outputs": [
    {
     "name": "stdout",
     "output_type": "stream",
     "text": [
      "Number of actions with value 1: 91\n",
      "Total number of actions: 3000\n",
      "Percentage of actions with value 1: 3.03%\n",
      "Number of reordering: 592\n",
      "Percentage of reordering: 19.73%\n"
     ]
    }
   ],
   "source": [
    "import pandas as pd\n",
    "\n",
    "# Load the dataset\n",
    "df = pd.read_csv('tmp/0000-deflection/final_rl_dataset.csv')\n",
    "\n",
    "# Count occurrences of action=1\n",
    "action_1_count = df[df['action'] == 1].shape[0]\n",
    "\n",
    "# Calculate percentage\n",
    "total_actions = df.shape[0]\n",
    "action_1_percentage = (action_1_count / total_actions) * 100\n",
    "\n",
    "# Count number of reordering\n",
    "reordering_count = df[df['reordering_flag'] == 1].shape[0]\n",
    "reordering_percentage = (reordering_count / total_actions) * 100\n",
    "\n",
    "print(f\"Number of actions with value 1: {action_1_count}\")\n",
    "print(f\"Total number of actions: {total_actions}\")\n",
    "print(f\"Percentage of actions with value 1: {action_1_percentage:.2f}%\")\n",
    "print(f\"Number of reordering: {reordering_count}\")\n",
    "print(f\"Percentage of reordering: {reordering_percentage:.2f}%\")"
   ]
  }
 ],
 "metadata": {
  "kernelspec": {
   "display_name": "Python 3",
   "language": "python",
   "name": "python3"
  },
  "language_info": {
   "codemirror_mode": {
    "name": "ipython",
    "version": 3
   },
   "file_extension": ".py",
   "mimetype": "text/x-python",
   "name": "python",
   "nbconvert_exporter": "python",
   "pygments_lexer": "ipython3",
   "version": "3.8.10"
  }
 },
 "nbformat": 4,
 "nbformat_minor": 2
}
